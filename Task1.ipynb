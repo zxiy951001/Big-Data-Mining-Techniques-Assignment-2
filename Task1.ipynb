{
 "cells": [
  {
   "cell_type": "markdown",
   "metadata": {},
   "source": [
    "# TASK 1 \n",
    "### NAME: YEO ZHENG XU ISAAC"
    
   ]
  },
  {
   "cell_type": "markdown",
   "metadata": {},
   "source": [
    "# You are to perform exploratory analysis on the given dataset of click events by using Spark’s DataFrame API.\n",
    "##### The objective is to compute the average time that users stay on items in each category.\n",
    "##### For analysis purposes in this task, use the following definitions:\n",
    "##### (i) There are 15 item categories in the dataset: S, 0, 1 to 12, and B (for any 8-10 digits number)\n",
    "##### (ii) In each session, the time that a user stays on some item is the timestamp difference between a user clicking on this item and the next item (if there is a next item). "
   ]
  },
  {
   "cell_type": "code",
   "execution_count": 46,
   "metadata": {},
   "outputs": [],
   "source": [
    "from IPython.display import display"
   ]
  },
  {
   "cell_type": "code",
   "execution_count": 47,
   "metadata": {},
   "outputs": [],
   "source": [
    "from IPython.core.interactiveshell import InteractiveShell\n",
    "InteractiveShell.ast_node_interactivity = \"last\"\n",
    "import numpy as np"
   ]
  },
  {
   "cell_type": "code",
   "execution_count": 48,
   "metadata": {},
   "outputs": [],
   "source": [
    "import findspark\n",
    "findspark.init()"
   ]
  },
  {
   "cell_type": "code",
   "execution_count": 49,
   "metadata": {},
   "outputs": [],
   "source": [
    "from pyspark.sql import SparkSession\n",
    "from pyspark.sql.types import*\n",
    "from pyspark.sql.functions import*\n",
    "from pyspark.sql.window import Window\n",
    "from pyspark.mllib.linalg.distributed import *\n",
    "from pyspark.mllib.linalg import*\n"
   ]
  },
  {
   "cell_type": "code",
   "execution_count": 50,
   "metadata": {},
   "outputs": [
    {
     "data": {
      "text/html": [
       "\n",
       "            <div>\n",
       "                <p><b>SparkSession - in-memory</b></p>\n",
       "                \n",
       "        <div>\n",
       "            <p><b>SparkContext</b></p>\n",
       "\n",
       "            <p><a href=\"http://WIN-98G7QMLAHN6:4040\">Spark UI</a></p>\n",
       "\n",
       "            <dl>\n",
       "              <dt>Version</dt>\n",
       "                <dd><code>v2.4.4</code></dd>\n",
       "              <dt>Master</dt>\n",
       "                <dd><code>local[*]</code></dd>\n",
       "              <dt>AppName</dt>\n",
       "                <dd><code>task1</code></dd>\n",
       "            </dl>\n",
       "        </div>\n",
       "        \n",
       "            </div>\n",
       "        "
      ],
      "text/plain": [
       "<pyspark.sql.session.SparkSession at 0x23c0ddbf948>"
      ]
     },
     "execution_count": 50,
     "metadata": {},
     "output_type": "execute_result"
    }
   ],
   "source": [
    "spark = SparkSession.builder.appName(\"task1\").config(\"spark-master\",\"local\").getOrCreate()\n",
    "sc =spark.sparkContext\n",
    "spark"
   ]
  },
  {
   "cell_type": "markdown",
   "metadata": {},
   "source": [
    "##### Load Data & Defining Dataframe structure"
   ]
  },
  {
   "cell_type": "code",
   "execution_count": 51,
   "metadata": {},
   "outputs": [],
   "source": [
    "schema = StructType([\n",
    "    StructField(\"session_id\", StringType(), True),\n",
    "    StructField(\"timestamp\", TimestampType(), True),\n",
    "    StructField(\"item_id\", StringType(), True),\n",
    "    StructField(\"category\", StringType(), True),\n",
    "])\n",
    "\n",
    "timestampFormat= \"yyyy-MM-dd'T'HH:mm:ss.SSS'Z'\"\n",
    "data = spark.read.csv(\"F:\\\\316\\\\yoochoose-clicks.dat\",\n",
    "                     schema = schema,\n",
    "                     timestampFormat=timestampFormat)"
   ]
  },
  {
   "cell_type": "code",
   "execution_count": 52,
   "metadata": {},
   "outputs": [
    {
     "name": "stdout",
     "output_type": "stream",
     "text": [
      "root\n",
      " |-- session_id: string (nullable = true)\n",
      " |-- timestamp: timestamp (nullable = true)\n",
      " |-- item_id: string (nullable = true)\n",
      " |-- category: string (nullable = true)\n",
      "\n"
     ]
    }
   ],
   "source": [
    "data.printSchema()"
   ]
  },
  {
   "cell_type": "code",
   "execution_count": 53,
   "metadata": {},
   "outputs": [
    {
     "name": "stdout",
     "output_type": "stream",
     "text": [
      "+----------+-----------------------+---------+--------+\n",
      "|session_id|timestamp              |item_id  |category|\n",
      "+----------+-----------------------+---------+--------+\n",
      "|1         |2014-04-07 10:51:09.277|214536502|0       |\n",
      "|1         |2014-04-07 10:54:09.868|214536500|0       |\n",
      "|1         |2014-04-07 10:54:46.998|214536506|0       |\n",
      "|1         |2014-04-07 10:57:00.306|214577561|0       |\n",
      "|2         |2014-04-07 13:56:37.614|214662742|0       |\n",
      "|2         |2014-04-07 13:57:19.373|214662742|0       |\n",
      "|2         |2014-04-07 13:58:37.446|214825110|0       |\n",
      "|2         |2014-04-07 13:59:50.71 |214757390|0       |\n",
      "|2         |2014-04-07 14:00:38.247|214757407|0       |\n",
      "|2         |2014-04-07 14:02:36.889|214551617|0       |\n",
      "+----------+-----------------------+---------+--------+\n",
      "only showing top 10 rows\n",
      "\n"
     ]
    }
   ],
   "source": [
    "data.show(10, truncate = False)"
   ]
  },
  {
   "cell_type": "markdown",
   "metadata": {},
   "source": [
    "##### Calculate and display the total number of category values"
   ]
  },
  {
   "cell_type": "code",
   "execution_count": 55,
   "metadata": {},
   "outputs": [
    {
     "name": "stdout",
     "output_type": "stream",
     "text": [
      "+----------+\n",
      "|  category|\n",
      "+----------+\n",
      "|2088937100|\n",
      "|2089421594|\n",
      "|2089318108|\n",
      "|2088901091|\n",
      "|2088927353|\n",
      "|2089329443|\n",
      "|   5862365|\n",
      "|         7|\n",
      "|2089584296|\n",
      "|2089156240|\n",
      "|2088902668|\n",
      "|2088966970|\n",
      "|2089074648|\n",
      "|2089155957|\n",
      "|2089498194|\n",
      "|2089084286|\n",
      "|2088937230|\n",
      "|        11|\n",
      "|2089282830|\n",
      "|2089443905|\n",
      "+----------+\n",
      "only showing top 20 rows\n",
      "\n",
      "Total number category values: 339\n"
     ]
    }
   ],
   "source": [
    "distinct_category = data.select(\"category\").distinct()\n",
    "distinct_category.show()\n",
    "print(\"Total number category values:\", distinct_category.count())"
   ]
  },
  {
   "cell_type": "markdown",
   "metadata": {},
   "source": [
    "##### Display number of distinct category values \n",
    "##### S, 0, 1 - 12 & B"
   ]
  },
  {
   "cell_type": "code",
   "execution_count": 56,
   "metadata": {},
   "outputs": [
    {
     "name": "stdout",
     "output_type": "stream",
     "text": [
      "+--------+\n",
      "|category|\n",
      "+--------+\n",
      "|       7|\n",
      "|      11|\n",
      "|       3|\n",
      "|       8|\n",
      "|       0|\n",
      "|       B|\n",
      "|       5|\n",
      "|       6|\n",
      "|       S|\n",
      "|       9|\n",
      "|       1|\n",
      "|      10|\n",
      "|       4|\n",
      "|      12|\n",
      "|       2|\n",
      "+--------+\n",
      "\n",
      "Number of distinct category valuse: 15\n"
     ]
    }
   ],
   "source": [
    "data = data.withColumn(\"category\",when(length(\"category\")>2,\"B\").otherwise(col(\"category\")))\n",
    "distinct_category = data.select(\"category\").distinct()\n",
    "distinct_category.show()\n",
    "print(\"Number of distinct category values:\",distinct_category.count())"
   ]
  },
  {
   "cell_type": "code",
   "execution_count": 57,
   "metadata": {},
   "outputs": [
    {
     "name": "stdout",
     "output_type": "stream",
     "text": [
      "+----------+-----------------------+---------+--------+\n",
      "|session_id|timestamp              |item_id  |category|\n",
      "+----------+-----------------------+---------+--------+\n",
      "|1         |2014-04-07 10:51:09.277|214536502|0       |\n",
      "|1         |2014-04-07 10:54:09.868|214536500|0       |\n",
      "|1         |2014-04-07 10:54:46.998|214536506|0       |\n",
      "|1         |2014-04-07 10:57:00.306|214577561|0       |\n",
      "|10000001  |2014-09-08 10:35:38.841|214854230|S       |\n",
      "|10000001  |2014-09-08 10:40:20.143|214556216|S       |\n",
      "|10000001  |2014-09-08 10:40:36.704|214556212|S       |\n",
      "|10000001  |2014-09-08 10:41:12.386|214854230|S       |\n",
      "|10000001  |2014-09-08 10:48:34.245|214854125|S       |\n",
      "|10000002  |2014-09-08 19:10:51.206|214849322|S       |\n",
      "|10000002  |2014-09-08 19:13:31.104|214838094|S       |\n",
      "|10000002  |2014-09-08 19:14:54.518|214714721|S       |\n",
      "|10000002  |2014-09-08 19:33:38.355|214853711|S       |\n",
      "|10000003  |2014-09-05 11:32:15.524|214853090|3       |\n",
      "|10000003  |2014-09-05 11:34:25.159|214851326|3       |\n",
      "|10000003  |2014-09-05 11:37:23.321|214853094|3       |\n",
      "|10000004  |2014-09-05 13:14:45.867|214853090|3       |\n",
      "|10000004  |2014-09-05 13:55:18.886|214851326|3       |\n",
      "|10000004  |2014-09-05 13:56:28.356|214853090|3       |\n",
      "|10000004  |2014-09-05 13:57:08.51 |214851326|3       |\n",
      "+----------+-----------------------+---------+--------+\n",
      "only showing top 20 rows\n",
      "\n"
     ]
    }
   ],
   "source": [
    "data = data.orderBy(\"session_id\",\"timestamp\")\n",
    "data.show(truncate=False)"
   ]
  },
  {
   "cell_type": "code",
   "execution_count": 58,
   "metadata": {},
   "outputs": [
    {
     "name": "stdout",
     "output_type": "stream",
     "text": [
      "+----------+-----------------------+---------+--------+-----------------------+\n",
      "|session_id|timestamp              |item_id  |category|next_timestamp         |\n",
      "+----------+-----------------------+---------+--------+-----------------------+\n",
      "|1         |2014-04-07 10:51:09.277|214536502|0       |2014-04-07 10:54:09.868|\n",
      "|1         |2014-04-07 10:54:09.868|214536500|0       |2014-04-07 10:54:46.998|\n",
      "|1         |2014-04-07 10:54:46.998|214536506|0       |2014-04-07 10:57:00.306|\n",
      "|1         |2014-04-07 10:57:00.306|214577561|0       |null                   |\n",
      "|10000001  |2014-09-08 10:35:38.841|214854230|S       |2014-09-08 10:40:20.143|\n",
      "|10000001  |2014-09-08 10:40:20.143|214556216|S       |2014-09-08 10:40:36.704|\n",
      "|10000001  |2014-09-08 10:40:36.704|214556212|S       |2014-09-08 10:41:12.386|\n",
      "|10000001  |2014-09-08 10:41:12.386|214854230|S       |2014-09-08 10:48:34.245|\n",
      "|10000001  |2014-09-08 10:48:34.245|214854125|S       |null                   |\n",
      "|10000002  |2014-09-08 19:10:51.206|214849322|S       |2014-09-08 19:13:31.104|\n",
      "|10000002  |2014-09-08 19:13:31.104|214838094|S       |2014-09-08 19:14:54.518|\n",
      "|10000002  |2014-09-08 19:14:54.518|214714721|S       |2014-09-08 19:33:38.355|\n",
      "|10000002  |2014-09-08 19:33:38.355|214853711|S       |null                   |\n",
      "|10000003  |2014-09-05 11:32:15.524|214853090|3       |2014-09-05 11:34:25.159|\n",
      "|10000003  |2014-09-05 11:34:25.159|214851326|3       |2014-09-05 11:37:23.321|\n",
      "|10000003  |2014-09-05 11:37:23.321|214853094|3       |null                   |\n",
      "|10000004  |2014-09-05 13:14:45.867|214853090|3       |2014-09-05 13:55:18.886|\n",
      "|10000004  |2014-09-05 13:55:18.886|214851326|3       |2014-09-05 13:56:28.356|\n",
      "|10000004  |2014-09-05 13:56:28.356|214853090|3       |2014-09-05 13:57:08.51 |\n",
      "|10000004  |2014-09-05 13:57:08.51 |214851326|3       |2014-09-05 13:57:59.659|\n",
      "+----------+-----------------------+---------+--------+-----------------------+\n",
      "only showing top 20 rows\n",
      "\n"
     ]
    }
   ],
   "source": [
    "my_window = Window.partitionBy(\"session_id\").orderBy(\"timestamp\")\n",
    "data = data.withColumn(\"next_timestamp\",lead(col(\"timestamp\"),1,None).over(my_window))\n",
    "data = data.orderBy(\"session_id\",\"timestamp\")\n",
    "data.show(truncate=False)"
   ]
  },
  {
   "cell_type": "code",
   "execution_count": 59,
   "metadata": {},
   "outputs": [
    {
     "name": "stdout",
     "output_type": "stream",
     "text": [
      "+----------+-----------------------+---------+--------+-----------------------+\n",
      "|session_id|timestamp              |item_id  |category|next_timestamp         |\n",
      "+----------+-----------------------+---------+--------+-----------------------+\n",
      "|1         |2014-04-07 10:51:09.277|214536502|0       |2014-04-07 10:54:09.868|\n",
      "|1         |2014-04-07 10:54:09.868|214536500|0       |2014-04-07 10:54:46.998|\n",
      "|1         |2014-04-07 10:54:46.998|214536506|0       |2014-04-07 10:57:00.306|\n",
      "|10000001  |2014-09-08 10:35:38.841|214854230|S       |2014-09-08 10:40:20.143|\n",
      "|10000001  |2014-09-08 10:40:20.143|214556216|S       |2014-09-08 10:40:36.704|\n",
      "|10000001  |2014-09-08 10:40:36.704|214556212|S       |2014-09-08 10:41:12.386|\n",
      "|10000001  |2014-09-08 10:41:12.386|214854230|S       |2014-09-08 10:48:34.245|\n",
      "|10000002  |2014-09-08 19:10:51.206|214849322|S       |2014-09-08 19:13:31.104|\n",
      "|10000002  |2014-09-08 19:13:31.104|214838094|S       |2014-09-08 19:14:54.518|\n",
      "|10000002  |2014-09-08 19:14:54.518|214714721|S       |2014-09-08 19:33:38.355|\n",
      "|10000003  |2014-09-05 11:32:15.524|214853090|3       |2014-09-05 11:34:25.159|\n",
      "|10000003  |2014-09-05 11:34:25.159|214851326|3       |2014-09-05 11:37:23.321|\n",
      "|10000004  |2014-09-05 13:14:45.867|214853090|3       |2014-09-05 13:55:18.886|\n",
      "|10000004  |2014-09-05 13:55:18.886|214851326|3       |2014-09-05 13:56:28.356|\n",
      "|10000004  |2014-09-05 13:56:28.356|214853090|3       |2014-09-05 13:57:08.51 |\n",
      "|10000004  |2014-09-05 13:57:08.51 |214851326|3       |2014-09-05 13:57:59.659|\n",
      "|10000004  |2014-09-05 13:57:59.659|214853248|S       |2014-09-05 13:59:33.96 |\n",
      "|10000004  |2014-09-05 13:59:33.96 |214851326|3       |2014-09-05 14:00:05.955|\n",
      "|10000004  |2014-09-05 14:00:05.955|214853094|3       |2014-09-05 14:06:42.489|\n",
      "|10000006  |2014-09-05 17:37:18.748|214829261|1       |2014-09-05 17:37:59.435|\n",
      "+----------+-----------------------+---------+--------+-----------------------+\n",
      "only showing top 20 rows\n",
      "\n"
     ]
    }
   ],
   "source": [
    "data = data.where(col(\"next_timestamp\").isNotNull())\n",
    "data.show(truncate=False)"
   ]
  },
  {
   "cell_type": "code",
   "execution_count": 61,
   "metadata": {},
   "outputs": [
    {
     "name": "stdout",
     "output_type": "stream",
     "text": [
      "+----------+-----------------------+---------+--------+-----------------------+------------------+\n",
      "|session_id|timestamp              |item_id  |category|next_timestamp         |stay_time         |\n",
      "+----------+-----------------------+---------+--------+-----------------------+------------------+\n",
      "|1         |2014-04-07 10:51:09.277|214536502|0       |2014-04-07 10:54:09.868|180.59100008010864|\n",
      "|1         |2014-04-07 10:54:09.868|214536500|0       |2014-04-07 10:54:46.998|37.12999987602234 |\n",
      "|1         |2014-04-07 10:54:46.998|214536506|0       |2014-04-07 10:57:00.306|133.30800008773804|\n",
      "|10000001  |2014-09-08 10:35:38.841|214854230|S       |2014-09-08 10:40:20.143|281.3019998073578 |\n",
      "|10000001  |2014-09-08 10:40:20.143|214556216|S       |2014-09-08 10:40:36.704|16.561000108718872|\n",
      "|10000001  |2014-09-08 10:40:36.704|214556212|S       |2014-09-08 10:41:12.386|35.681999921798706|\n",
      "|10000001  |2014-09-08 10:41:12.386|214854230|S       |2014-09-08 10:48:34.245|441.8589999675751 |\n",
      "|10000002  |2014-09-08 19:10:51.206|214849322|S       |2014-09-08 19:13:31.104|159.89800000190735|\n",
      "|10000002  |2014-09-08 19:13:31.104|214838094|S       |2014-09-08 19:14:54.518|83.4139997959137  |\n",
      "|10000002  |2014-09-08 19:14:54.518|214714721|S       |2014-09-08 19:33:38.355|1123.837000131607 |\n",
      "|10000003  |2014-09-05 11:32:15.524|214853090|3       |2014-09-05 11:34:25.159|129.63499999046326|\n",
      "|10000003  |2014-09-05 11:34:25.159|214851326|3       |2014-09-05 11:37:23.321|178.16200017929077|\n",
      "|10000004  |2014-09-05 13:14:45.867|214853090|3       |2014-09-05 13:55:18.886|2433.018999814987 |\n",
      "|10000004  |2014-09-05 13:55:18.886|214851326|3       |2014-09-05 13:56:28.356|69.47000002861023 |\n",
      "|10000004  |2014-09-05 13:56:28.356|214853090|3       |2014-09-05 13:57:08.51 |40.15400004386902 |\n",
      "|10000004  |2014-09-05 13:57:08.51 |214851326|3       |2014-09-05 13:57:59.659|51.1489999294281  |\n",
      "|10000004  |2014-09-05 13:57:59.659|214853248|S       |2014-09-05 13:59:33.96 |94.30100011825562 |\n",
      "|10000004  |2014-09-05 13:59:33.96 |214851326|3       |2014-09-05 14:00:05.955|31.994999885559082|\n",
      "|10000004  |2014-09-05 14:00:05.955|214853094|3       |2014-09-05 14:06:42.489|396.53400015830994|\n",
      "|10000006  |2014-09-05 17:37:18.748|214829261|1       |2014-09-05 17:37:59.435|40.687000036239624|\n",
      "+----------+-----------------------+---------+--------+-----------------------+------------------+\n",
      "only showing top 20 rows\n",
      "\n"
     ]
    }
   ],
   "source": [
    "data = data.withColumn(\"stay_time\",\n",
    "                      col(\"next_timestamp\").cast(\"double\")-col(\"timestamp\").cast(\"double\"))\n",
    "data.show(truncate=False)"
   ]
  },
  {
   "cell_type": "code",
   "execution_count": 62,
   "metadata": {},
   "outputs": [
    {
     "name": "stdout",
     "output_type": "stream",
     "text": [
      "+--------+------------------+\n",
      "|category|     avg_stay_time|\n",
      "+--------+------------------+\n",
      "|       0| 414.4709083946925|\n",
      "|       1| 442.1116800819731|\n",
      "|      10| 398.3940570482952|\n",
      "|      11| 287.9408092237587|\n",
      "|      12| 376.0636118335499|\n",
      "|       2|414.30921255268976|\n",
      "|       3| 338.9622899890425|\n",
      "|       4| 401.3212670098933|\n",
      "|       5| 402.2364771293502|\n",
      "|       6| 406.7753709809426|\n",
      "|       7|400.57711884434644|\n",
      "|       8| 403.7298656270004|\n",
      "|       9|337.38195319053904|\n",
      "|       B|366.37772847468267|\n",
      "|       S|379.07649009551193|\n",
      "+--------+------------------+\n",
      "\n"
     ]
    }
   ],
   "source": [
    "data.groupBy(\"category\").agg((sum(\"stay_time\") / countDistinct(\"session_id\")).alias(\"avg_stay_time\")).orderBy(\"category\").show()"
   ]
  },
  {
   "cell_type": "code",
   "execution_count": null,
   "metadata": {},
   "outputs": [],
   "source": []
  }
 ],
 "metadata": {
  "kernelspec": {
   "display_name": "Python 3",
   "language": "python",
   "name": "python3"
  },
  "language_info": {
   "codemirror_mode": {
    "name": "ipython",
    "version": 3
   },
   "file_extension": ".py",
   "mimetype": "text/x-python",
   "name": "python",
   "nbconvert_exporter": "python",
   "pygments_lexer": "ipython3",
   "version": "3.7.4"
  }
 },
 "nbformat": 4,
 "nbformat_minor": 2
}
